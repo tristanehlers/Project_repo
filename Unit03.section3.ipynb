{
 "cells": [
  {
   "cell_type": "markdown",
   "id": "maritime-agent",
   "metadata": {
    "slideshow": {
     "slide_type": "slide"
    }
   },
   "source": [
    "# Lecture 3\n",
    "\n",
    "# Section 3: Lists\n",
    "\n",
    "Hint: All the examples and explanations from this part of today's lecture can be found in chapter 5 of the book."
   ]
  },
  {
   "cell_type": "markdown",
   "id": "dependent-eligibility",
   "metadata": {
    "slideshow": {
     "slide_type": "slide"
    }
   },
   "source": [
    "**Lists are everywhere**\n",
    "* Favorite songs on your smartphone\n",
    "* Contacts list\n",
    "* A library’s books\n",
    "* Cards in a card game\n",
    "* Favorite sports team’s players\n",
    "* Stocks in an investment portfolio\n",
    "* Patients in a cancer study \n",
    "* Shopping list. \n",
    "\n",
    "**Properties**\n",
    "* Lists are sequences, i.e., their elements have a certain order\n",
    "* Lists are modifiable (and tuples, next section, are not). \n",
    "* They can hold items of the same or different types. \n",
    "* Lists can **dynamically resize** as necessary.\n",
    "\n",
    "* Many of the capabilities shown in this section apply to all sequence types. "
   ]
  },
  {
   "cell_type": "markdown",
   "id": "improving-toddler",
   "metadata": {
    "slideshow": {
     "slide_type": "slide"
    }
   },
   "source": [
    "### Creating a List\n",
    "* **Lists** typically store **homogeneous data**, but may store **heterogeneous data**."
   ]
  },
  {
   "cell_type": "code",
   "execution_count": null,
   "id": "grave-tampa",
   "metadata": {},
   "outputs": [],
   "source": [
    "c = [-45, 6, 0, 72, 1543]"
   ]
  },
  {
   "cell_type": "code",
   "execution_count": null,
   "id": "moderate-gathering",
   "metadata": {},
   "outputs": [],
   "source": [
    "c"
   ]
  },
  {
   "cell_type": "markdown",
   "id": "departmental-vancouver",
   "metadata": {
    "slideshow": {
     "slide_type": "slide"
    }
   },
   "source": [
    "### Accessing Elements of a List\n",
    "* Reference a list element by writing the list’s name followed by the element’s **index** enclosed in `[]` (the **subscription operator**). "
   ]
  },
  {
   "cell_type": "code",
   "execution_count": null,
   "id": "owned-issue",
   "metadata": {},
   "outputs": [],
   "source": [
    "c[0]"
   ]
  },
  {
   "cell_type": "code",
   "execution_count": null,
   "id": "dimensional-management",
   "metadata": {},
   "outputs": [],
   "source": [
    "c[4]"
   ]
  },
  {
   "cell_type": "markdown",
   "id": "south-climate",
   "metadata": {
    "slideshow": {
     "slide_type": "slide"
    }
   },
   "source": [
    "### Determining a List’s Length "
   ]
  },
  {
   "cell_type": "code",
   "execution_count": null,
   "id": "curious-truth",
   "metadata": {},
   "outputs": [],
   "source": [
    "len(c)"
   ]
  },
  {
   "cell_type": "markdown",
   "id": "careful-block",
   "metadata": {
    "slideshow": {
     "slide_type": "slide"
    }
   },
   "source": [
    "### Accessing Elements from the End of the List with Negative Indices\n",
    "* Lists can be accessed from the end by using _negative indices_:"
   ]
  },
  {
   "cell_type": "code",
   "execution_count": null,
   "id": "suitable-parts",
   "metadata": {},
   "outputs": [],
   "source": [
    "c[-1]"
   ]
  },
  {
   "cell_type": "code",
   "execution_count": null,
   "id": "clear-performer",
   "metadata": {},
   "outputs": [],
   "source": [
    "c[-5]"
   ]
  },
  {
   "cell_type": "markdown",
   "id": "fifteen-scheduling",
   "metadata": {
    "slideshow": {
     "slide_type": "slide"
    }
   },
   "source": [
    "### Indices Must Be Integers or Integer Expressions"
   ]
  },
  {
   "cell_type": "code",
   "execution_count": null,
   "id": "afraid-sport",
   "metadata": {},
   "outputs": [],
   "source": [
    "a = 1"
   ]
  },
  {
   "cell_type": "code",
   "execution_count": null,
   "id": "previous-navigation",
   "metadata": {},
   "outputs": [],
   "source": [
    "b = 2"
   ]
  },
  {
   "cell_type": "code",
   "execution_count": null,
   "id": "viral-gathering",
   "metadata": {},
   "outputs": [],
   "source": [
    "c[a + b]"
   ]
  },
  {
   "cell_type": "markdown",
   "id": "mobile-assurance",
   "metadata": {
    "slideshow": {
     "slide_type": "slide"
    }
   },
   "source": [
    "### Lists Are Mutable"
   ]
  },
  {
   "cell_type": "code",
   "execution_count": null,
   "id": "offshore-cleveland",
   "metadata": {},
   "outputs": [],
   "source": [
    "c[4] = 17"
   ]
  },
  {
   "cell_type": "code",
   "execution_count": null,
   "id": "generous-amplifier",
   "metadata": {},
   "outputs": [],
   "source": [
    "c"
   ]
  },
  {
   "cell_type": "markdown",
   "id": "durable-vocabulary",
   "metadata": {
    "slideshow": {
     "slide_type": "slide"
    }
   },
   "source": [
    "### Some Sequences Are Immutable\n",
    "* Python’s string (and tuple) sequences are immutable. "
   ]
  },
  {
   "cell_type": "code",
   "execution_count": null,
   "id": "figured-beatles",
   "metadata": {},
   "outputs": [],
   "source": [
    "s = 'hello'"
   ]
  },
  {
   "cell_type": "code",
   "execution_count": null,
   "id": "unlimited-procurement",
   "metadata": {},
   "outputs": [],
   "source": [
    "s[0]"
   ]
  },
  {
   "cell_type": "code",
   "execution_count": null,
   "id": "fiscal-commodity",
   "metadata": {},
   "outputs": [],
   "source": [
    "s[0] = 'H'"
   ]
  },
  {
   "cell_type": "markdown",
   "id": "arbitrary-swing",
   "metadata": {
    "slideshow": {
     "slide_type": "slide"
    }
   },
   "source": [
    "### Attempting to Access a Nonexistent Element\n",
    "* Index values must be in range."
   ]
  },
  {
   "cell_type": "code",
   "execution_count": null,
   "id": "embedded-opening",
   "metadata": {},
   "outputs": [],
   "source": [
    "c[100]"
   ]
  },
  {
   "cell_type": "markdown",
   "id": "lonely-sustainability",
   "metadata": {
    "slideshow": {
     "slide_type": "slide"
    }
   },
   "source": [
    "### Using List Elements in Expressions"
   ]
  },
  {
   "cell_type": "code",
   "execution_count": null,
   "id": "sexual-rogers",
   "metadata": {},
   "outputs": [],
   "source": [
    "c[0] + c[1] + c[2]"
   ]
  },
  {
   "cell_type": "markdown",
   "id": "hidden-institute",
   "metadata": {
    "slideshow": {
     "slide_type": "slide"
    }
   },
   "source": [
    "### Appending to a List with +=\n",
    "* Lists can grow dynamically to accommodate new items."
   ]
  },
  {
   "cell_type": "code",
   "execution_count": null,
   "id": "suspected-hollow",
   "metadata": {},
   "outputs": [],
   "source": [
    "a_list = []"
   ]
  },
  {
   "cell_type": "code",
   "execution_count": null,
   "id": "affected-being",
   "metadata": {},
   "outputs": [],
   "source": [
    "for number in range(1, 6):\n",
    "    print(number)\n",
    "    a_list += [number]\n",
    "    print(number)"
   ]
  },
  {
   "cell_type": "code",
   "execution_count": null,
   "id": "eastern-construction",
   "metadata": {},
   "outputs": [],
   "source": [
    "a_list"
   ]
  },
  {
   "cell_type": "markdown",
   "id": "better-glory",
   "metadata": {},
   "source": [
    "* When the left operand of `+=` is a list, the right operand must be an _iterable_; otherwise, a `TypeError` occurs."
   ]
  },
  {
   "cell_type": "code",
   "execution_count": null,
   "id": "experienced-school",
   "metadata": {},
   "outputs": [],
   "source": [
    "letters = []"
   ]
  },
  {
   "cell_type": "code",
   "execution_count": null,
   "id": "amateur-swiss",
   "metadata": {},
   "outputs": [],
   "source": [
    "letters += 'Python'"
   ]
  },
  {
   "cell_type": "code",
   "execution_count": null,
   "id": "crazy-reading",
   "metadata": {},
   "outputs": [],
   "source": [
    "letters"
   ]
  },
  {
   "cell_type": "markdown",
   "id": "dense-metallic",
   "metadata": {
    "slideshow": {
     "slide_type": "slide"
    }
   },
   "source": [
    "### Concatenating Lists with +\n",
    "* Can **concatenate** two lists, two tuples or two strings using `+` to create a _new_ sequence of the same type."
   ]
  },
  {
   "cell_type": "code",
   "execution_count": null,
   "id": "ideal-print",
   "metadata": {},
   "outputs": [],
   "source": [
    "list1 = [10, 20, 30]"
   ]
  },
  {
   "cell_type": "code",
   "execution_count": null,
   "id": "infinite-royalty",
   "metadata": {},
   "outputs": [],
   "source": [
    "list2 = [40, 50]"
   ]
  },
  {
   "cell_type": "code",
   "execution_count": null,
   "id": "human-investment",
   "metadata": {},
   "outputs": [],
   "source": [
    "concatenated_list = list1 + list2"
   ]
  },
  {
   "cell_type": "code",
   "execution_count": null,
   "id": "liquid-format",
   "metadata": {},
   "outputs": [],
   "source": [
    "concatenated_list"
   ]
  },
  {
   "cell_type": "markdown",
   "id": "funny-athletics",
   "metadata": {
    "slideshow": {
     "slide_type": "slide"
    }
   },
   "source": [
    "### Using `for` and `range` to Access List Indices and Values"
   ]
  },
  {
   "cell_type": "code",
   "execution_count": null,
   "id": "historic-render",
   "metadata": {},
   "outputs": [],
   "source": [
    "for i in range(len(concatenated_list)):  \n",
    "    print(f'{i}: {concatenated_list[i]}')"
   ]
  },
  {
   "cell_type": "markdown",
   "id": "outstanding-coalition",
   "metadata": {},
   "source": [
    "* We’ll show a safer way to access element indices and values using built-in function `enumerate`."
   ]
  },
  {
   "cell_type": "markdown",
   "id": "grave-history",
   "metadata": {
    "slideshow": {
     "slide_type": "slide"
    }
   },
   "source": [
    "### Comparison Operators\n",
    "* Can compare entire lists element-by-element."
   ]
  },
  {
   "cell_type": "code",
   "execution_count": null,
   "id": "sustainable-hamburg",
   "metadata": {},
   "outputs": [],
   "source": [
    "a = [1, 2, 3]"
   ]
  },
  {
   "cell_type": "code",
   "execution_count": null,
   "id": "attractive-fruit",
   "metadata": {},
   "outputs": [],
   "source": [
    "b = [1, 2, 3]"
   ]
  },
  {
   "cell_type": "code",
   "execution_count": null,
   "id": "intellectual-hygiene",
   "metadata": {},
   "outputs": [],
   "source": [
    "c = [1, 2, 3, 4]"
   ]
  },
  {
   "cell_type": "code",
   "execution_count": null,
   "id": "rocky-lingerie",
   "metadata": {},
   "outputs": [],
   "source": [
    "a == b"
   ]
  },
  {
   "cell_type": "code",
   "execution_count": null,
   "id": "agricultural-buffalo",
   "metadata": {},
   "outputs": [],
   "source": [
    "a == c"
   ]
  },
  {
   "cell_type": "code",
   "execution_count": null,
   "id": "amended-brother",
   "metadata": {},
   "outputs": [],
   "source": [
    "a < c"
   ]
  },
  {
   "cell_type": "code",
   "execution_count": null,
   "id": "sacred-better",
   "metadata": {},
   "outputs": [],
   "source": [
    "c >= b"
   ]
  },
  {
   "cell_type": "markdown",
   "id": "apparent-vintage",
   "metadata": {
    "slideshow": {
     "slide_type": "slide"
    }
   },
   "source": [
    "### Sorting a List in Ascending Order\n",
    "* List **method** `sort` _modifies_ a list."
   ]
  },
  {
   "cell_type": "code",
   "execution_count": null,
   "id": "european-jason",
   "metadata": {},
   "outputs": [],
   "source": [
    "numbers = [10, 3, 7, 1, 9, 4, 2, 8, 5, 6]"
   ]
  },
  {
   "cell_type": "code",
   "execution_count": null,
   "id": "individual-messenger",
   "metadata": {},
   "outputs": [],
   "source": [
    "numbers.sort()"
   ]
  },
  {
   "cell_type": "code",
   "execution_count": null,
   "id": "wicked-contrast",
   "metadata": {},
   "outputs": [],
   "source": [
    "numbers"
   ]
  },
  {
   "cell_type": "markdown",
   "id": "temporal-consolidation",
   "metadata": {
    "slideshow": {
     "slide_type": "slide"
    }
   },
   "source": [
    "### Sorting a List in Descending Order"
   ]
  },
  {
   "cell_type": "code",
   "execution_count": null,
   "id": "trying-rescue",
   "metadata": {},
   "outputs": [],
   "source": [
    "numbers.sort(reverse=True)"
   ]
  },
  {
   "cell_type": "code",
   "execution_count": null,
   "id": "refined-adelaide",
   "metadata": {},
   "outputs": [],
   "source": [
    "numbers"
   ]
  },
  {
   "cell_type": "markdown",
   "id": "proprietary-gospel",
   "metadata": {
    "slideshow": {
     "slide_type": "slide"
    }
   },
   "source": [
    "### Built-In Function `sorted`\n",
    "* Built-in **function** `sorted` _returns a new list_ containing the sorted elements of its argument _sequence_ — the original sequence is _unmodified_. "
   ]
  },
  {
   "cell_type": "code",
   "execution_count": null,
   "id": "democratic-bennett",
   "metadata": {},
   "outputs": [],
   "source": [
    "numbers = [10, 3, 7, 1, 9, 4, 2, 8, 5, 6]"
   ]
  },
  {
   "cell_type": "code",
   "execution_count": null,
   "id": "human-bloom",
   "metadata": {},
   "outputs": [],
   "source": [
    "ascending_numbers = sorted(numbers)"
   ]
  },
  {
   "cell_type": "code",
   "execution_count": null,
   "id": "north-arnold",
   "metadata": {},
   "outputs": [],
   "source": [
    "ascending_numbers"
   ]
  },
  {
   "cell_type": "code",
   "execution_count": null,
   "id": "institutional-surprise",
   "metadata": {},
   "outputs": [],
   "source": [
    "numbers"
   ]
  },
  {
   "cell_type": "code",
   "execution_count": null,
   "id": "living-process",
   "metadata": {},
   "outputs": [],
   "source": [
    "letters = 'fadgchjebi'"
   ]
  },
  {
   "cell_type": "code",
   "execution_count": null,
   "id": "sunset-christopher",
   "metadata": {},
   "outputs": [],
   "source": [
    "ascending_letters = sorted(letters)"
   ]
  },
  {
   "cell_type": "code",
   "execution_count": null,
   "id": "electronic-going",
   "metadata": {},
   "outputs": [],
   "source": [
    "ascending_letters"
   ]
  },
  {
   "cell_type": "code",
   "execution_count": null,
   "id": "deluxe-scale",
   "metadata": {},
   "outputs": [],
   "source": [
    "letters"
   ]
  },
  {
   "cell_type": "code",
   "execution_count": null,
   "id": "demanding-capacity",
   "metadata": {
    "slideshow": {
     "slide_type": "slide"
    }
   },
   "outputs": [],
   "source": [
    "colors = ('red', 'orange', 'yellow', 'green', 'blue')"
   ]
  },
  {
   "cell_type": "code",
   "execution_count": null,
   "id": "reverse-arrangement",
   "metadata": {},
   "outputs": [],
   "source": [
    "ascending_colors = sorted(colors)"
   ]
  },
  {
   "cell_type": "code",
   "execution_count": null,
   "id": "metric-replica",
   "metadata": {},
   "outputs": [],
   "source": [
    "ascending_colors"
   ]
  },
  {
   "cell_type": "code",
   "execution_count": null,
   "id": "spatial-friday",
   "metadata": {},
   "outputs": [],
   "source": [
    "colors"
   ]
  },
  {
   "cell_type": "markdown",
   "id": "3c0f3b5f",
   "metadata": {
    "slideshow": {
     "slide_type": "slide"
    }
   },
   "source": [
    "### A short discussion on `sorted()` vs `list.sort()`\n",
    "**sorted()** &ndash; a _function_ that takes the structure to be sorted as an argument\n",
    "* can be applied to various sequences (lists, tuples, strings) and other structures (dictonary, set &ndash; we will look at those later)\n",
    "* always returns a sorted copy, the original is preserved\n",
    "* is not as fast with large lists (etc.)\n",
    "      \n",
    "**list.sort()** &ndash; a _method_ that is called upon the _list_ to be sorted \n",
    "* belongs to the class list and is implemented only for lists (not tuple, etc.)\n",
    "* returns None and sorts the corresponding list _in place_, i.e., the original list is gone afterwards\n",
    "* is (somewhat) less performant for large lists\n",
    "\n",
    "A nice discussion can be found here: https://medium.com/@DahlitzF/list-sort-vs-sorted-list-aab92c00e17"
   ]
  },
  {
   "cell_type": "markdown",
   "id": "compliant-argument",
   "metadata": {
    "slideshow": {
     "slide_type": "notes"
    }
   },
   "source": [
    " ------\n",
    "&copy;1992&ndash;2020 by Pearson Education, Inc. All Rights Reserved. This content is based on Chapter 1 of the book [**Intro to Python for Computer Science and Data Science: Learning to Program with AI, Big Data and the Cloud**](https://amzn.to/2VvdnxE).         "
   ]
  }
 ],
 "metadata": {
  "celltoolbar": "Slideshow",
  "kernelspec": {
   "display_name": "Python 3 (ipykernel)",
   "language": "python",
   "name": "python3"
  },
  "language_info": {
   "codemirror_mode": {
    "name": "ipython",
    "version": 3
   },
   "file_extension": ".py",
   "mimetype": "text/x-python",
   "name": "python",
   "nbconvert_exporter": "python",
   "pygments_lexer": "ipython3",
   "version": "3.10.13"
  }
 },
 "nbformat": 4,
 "nbformat_minor": 5
}
